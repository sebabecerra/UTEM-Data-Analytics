{
 "cells": [
  {
   "attachments": {},
   "cell_type": "markdown",
   "metadata": {},
   "source": [
    "# Python 101\n",
    "\n",
    "Este es un cuaderno opcional para que te pongas al día con Python en caso de que seas nuevo en Python o necesites un repaso. El material aquí es un curso intensivo de Python; recomiendo encarecidamente el [tutorial oficial de Python](https://docs.python.org/es/3/tutorial/) para una inmersión más profunda. Considera leer [esta página](https://docs.python.org/es/3/tutorial/appetite.html) en la documentación de Python para obtener información sobre Python y marcar el [glosario](https://docs.python.org/es/3/glossary.html#glossary) como referencia.\n",
    "\n",
    "## Tipos de datos básicos\n",
    "### Números\n",
    "Los números en Python pueden representarse como enteros (por ejemplo, `5`) o flotantes (por ejemplo, `5.0`). Podemos realizar operaciones con ellos:"
   ]
  },
  {
   "cell_type": "code",
   "execution_count": 1,
   "metadata": {},
   "outputs": [
    {
     "data": {
      "text/plain": [
       "11"
      ]
     },
     "execution_count": 1,
     "metadata": {},
     "output_type": "execute_result"
    }
   ],
   "source": [
    "5 + 6"
   ]
  },
  {
   "cell_type": "code",
   "execution_count": 2,
   "metadata": {},
   "outputs": [
    {
     "data": {
      "text/plain": [
       "0.8333333333333334"
      ]
     },
     "execution_count": 2,
     "metadata": {},
     "output_type": "execute_result"
    }
   ],
   "source": [
    "2.5 / 3"
   ]
  },
  {
   "attachments": {},
   "cell_type": "markdown",
   "metadata": {},
   "source": [
    "### Booleanos\n",
    "\n",
    "Podemos verificar la igualdad, lo que nos dará un booleano:"
   ]
  },
  {
   "cell_type": "code",
   "execution_count": 3,
   "metadata": {},
   "outputs": [
    {
     "data": {
      "text/plain": [
       "False"
      ]
     },
     "execution_count": 3,
     "metadata": {},
     "output_type": "execute_result"
    }
   ],
   "source": [
    "5 == 6"
   ]
  },
  {
   "cell_type": "code",
   "execution_count": 4,
   "metadata": {},
   "outputs": [
    {
     "data": {
      "text/plain": [
       "True"
      ]
     },
     "execution_count": 4,
     "metadata": {},
     "output_type": "execute_result"
    }
   ],
   "source": [
    "5 < 6"
   ]
  },
  {
   "attachments": {},
   "cell_type": "markdown",
   "metadata": {},
   "source": [
    "Estas expresiones se pueden combinar con operadores lógicos: `not`, `and`, `or`."
   ]
  },
  {
   "cell_type": "code",
   "execution_count": 5,
   "metadata": {},
   "outputs": [
    {
     "data": {
      "text/plain": [
       "True"
      ]
     },
     "execution_count": 5,
     "metadata": {},
     "output_type": "execute_result"
    }
   ],
   "source": [
    "(5 < 6) and not (5 == 6)"
   ]
  },
  {
   "cell_type": "code",
   "execution_count": 6,
   "metadata": {},
   "outputs": [
    {
     "data": {
      "text/plain": [
       "True"
      ]
     },
     "execution_count": 6,
     "metadata": {},
     "output_type": "execute_result"
    }
   ],
   "source": [
    "False or True"
   ]
  },
  {
   "cell_type": "code",
   "execution_count": 7,
   "metadata": {},
   "outputs": [
    {
     "data": {
      "text/plain": [
       "True"
      ]
     },
     "execution_count": 7,
     "metadata": {},
     "output_type": "execute_result"
    }
   ],
   "source": [
    "True or False"
   ]
  },
  {
   "attachments": {},
   "cell_type": "markdown",
   "metadata": {},
   "source": [
    "### Cadenas de texto (Strings)\n",
    "Usando cadenas de texto, podemos manejar texto en Python. Estos valores deben estar rodeados por comillas &mdash; simples (`'...'`) son el estándar, pero las dobles (`\"...\"`) también funcionan:\n",
    "```​⬤"
   ]
  },
  {
   "cell_type": "code",
   "execution_count": 8,
   "metadata": {},
   "outputs": [
    {
     "data": {
      "text/plain": [
       "'hello'"
      ]
     },
     "execution_count": 8,
     "metadata": {},
     "output_type": "execute_result"
    }
   ],
   "source": [
    "'hello'"
   ]
  },
  {
   "attachments": {},
   "cell_type": "markdown",
   "metadata": {},
   "source": [
    "También podemos realizar operaciones en cadenas de texto. Por ejemplo, podemos ver cuán larga es con `len()`:"
   ]
  },
  {
   "cell_type": "code",
   "execution_count": 9,
   "metadata": {},
   "outputs": [
    {
     "data": {
      "text/plain": [
       "5"
      ]
     },
     "execution_count": 9,
     "metadata": {},
     "output_type": "execute_result"
    }
   ],
   "source": [
    "len('hello')"
   ]
  },
  {
   "attachments": {},
   "cell_type": "markdown",
   "metadata": {},
   "source": [
    "Podemos seleccionar partes de la cadena de texto especificando el **índice**. Ten en cuenta que en Python, el primer carácter está en el índice 0:"
   ]
  },
  {
   "cell_type": "code",
   "execution_count": 10,
   "metadata": {},
   "outputs": [
    {
     "data": {
      "text/plain": [
       "'h'"
      ]
     },
     "execution_count": 10,
     "metadata": {},
     "output_type": "execute_result"
    }
   ],
   "source": [
    "'hello'[0]"
   ]
  },
  {
   "attachments": {},
   "cell_type": "markdown",
   "metadata": {},
   "source": [
    "Podemos concatenar cadenas de texto con `+`:"
   ]
  },
  {
   "cell_type": "code",
   "execution_count": 11,
   "metadata": {},
   "outputs": [
    {
     "data": {
      "text/plain": [
       "'hello world'"
      ]
     },
     "execution_count": 11,
     "metadata": {},
     "output_type": "execute_result"
    }
   ],
   "source": [
    "'hello' + ' ' + 'world'"
   ]
  },
  {
   "attachments": {},
   "cell_type": "markdown",
   "metadata": {},
   "source": [
    "Podemos verificar si ciertos caracteres están en la cadena de texto con el operador `in`:"
   ]
  },
  {
   "cell_type": "code",
   "execution_count": 12,
   "metadata": {},
   "outputs": [
    {
     "data": {
      "text/plain": [
       "True"
      ]
     },
     "execution_count": 12,
     "metadata": {},
     "output_type": "execute_result"
    }
   ],
   "source": [
    "'h' in 'hello'"
   ]
  },
  {
   "attachments": {},
   "cell_type": "markdown",
   "metadata": {},
   "source": [
    "## Variables\n",
    "Observa que simplemente escribir texto provoca un error. Los errores en Python intentan darnos pistas sobre lo que salió mal en nuestro código. En este caso, tenemos una excepción `NameError`, que nos indica que `'hello'` no está definido. Esto significa que [el intérprete de Python](https://docs.python.org/es/3/tutorial/interpreter.html) buscó una **variable** llamada `hello`, pero no la encontró."
   ]
  },
  {
   "cell_type": "code",
   "execution_count": 13,
   "metadata": {},
   "outputs": [
    {
     "ename": "NameError",
     "evalue": "name 'hello' is not defined",
     "output_type": "error",
     "traceback": [
      "\u001b[0;31m---------------------------------------------------------------------------\u001b[0m",
      "\u001b[0;31mNameError\u001b[0m                                 Traceback (most recent call last)",
      "\u001b[1;32m/Users/becerrosky/Library/CloudStorage/OneDrive-Personal/Data Analytics Cursos/Hands-On-Data-Analysis-with-Pandas-2nd-edition/ch_01/python_101.ipynb Cell 22\u001b[0m in \u001b[0;36m<cell line: 1>\u001b[0;34m()\u001b[0m\n\u001b[0;32m----> <a href='vscode-notebook-cell:/Users/becerrosky/Library/CloudStorage/OneDrive-Personal/Data%20Analytics%20Cursos/Hands-On-Data-Analysis-with-Pandas-2nd-edition/ch_01/python_101.ipynb#X30sZmlsZQ%3D%3D?line=0'>1</a>\u001b[0m hello\n",
      "\u001b[0;31mNameError\u001b[0m: name 'hello' is not defined"
     ]
    }
   ],
   "source": [
    "hello"
   ]
  },
  {
   "attachments": {},
   "cell_type": "markdown",
   "metadata": {},
   "source": [
    "Las variables nos permiten almacenar tipos de datos. Definimos una variable usando la sintaxis `nombre_de_variable = valor`:"
   ]
  },
  {
   "cell_type": "code",
   "execution_count": 14,
   "metadata": {},
   "outputs": [
    {
     "data": {
      "text/plain": [
       "12"
      ]
     },
     "execution_count": 14,
     "metadata": {},
     "output_type": "execute_result"
    }
   ],
   "source": [
    "x = 5\n",
    "y = 7\n",
    "x + y"
   ]
  },
  {
   "attachments": {},
   "cell_type": "markdown",
   "metadata": {},
   "source": [
    "El nombre de la variable no puede contener espacios; usualmente usamos `_` en su lugar. Los mejores nombres de variables son aquellos que son descriptivos:"
   ]
  },
  {
   "cell_type": "code",
   "execution_count": 15,
   "metadata": {},
   "outputs": [],
   "source": [
    "book_title = 'Hands-On Data Analysis with Pandas'"
   ]
  },
  {
   "attachments": {},
   "cell_type": "markdown",
   "metadata": {},
   "source": [
    "Las variables pueden ser de cualquier tipo de dato. Podemos verificar de qué tipo es con `type()`, que es una **función** (más sobre eso más adelante):"
   ]
  },
  {
   "cell_type": "code",
   "execution_count": 16,
   "metadata": {},
   "outputs": [
    {
     "data": {
      "text/plain": [
       "int"
      ]
     },
     "execution_count": 16,
     "metadata": {},
     "output_type": "execute_result"
    }
   ],
   "source": [
    "type(x)"
   ]
  },
  {
   "cell_type": "code",
   "execution_count": 17,
   "metadata": {},
   "outputs": [
    {
     "data": {
      "text/plain": [
       "str"
      ]
     },
     "execution_count": 17,
     "metadata": {},
     "output_type": "execute_result"
    }
   ],
   "source": [
    "type(book_title)"
   ]
  },
  {
   "attachments": {},
   "cell_type": "markdown",
   "metadata": {},
   "source": [
    "Si necesitamos ver el valor de una variable, podemos imprimirlo usando la función `print()`:"
   ]
  },
  {
   "cell_type": "code",
   "execution_count": 18,
   "metadata": {},
   "outputs": [
    {
     "name": "stdout",
     "output_type": "stream",
     "text": [
      "Hands-On Data Analysis with Pandas\n"
     ]
    }
   ],
   "source": [
    "print(book_title)"
   ]
  },
  {
   "attachments": {},
   "cell_type": "markdown",
   "metadata": {},
   "source": [
    "## Colecciones de Elementos\n",
    "\n",
    "### Listas\n",
    "Podemos almacenar una colección de elementos en una lista:"
   ]
  },
  {
   "cell_type": "code",
   "execution_count": 19,
   "metadata": {},
   "outputs": [
    {
     "data": {
      "text/plain": [
       "['hello', ' ', 'world']"
      ]
     },
     "execution_count": 19,
     "metadata": {},
     "output_type": "execute_result"
    }
   ],
   "source": [
    "['hello', ' ', 'world']"
   ]
  },
  {
   "attachments": {},
   "cell_type": "markdown",
   "metadata": {},
   "source": [
    "La lista se puede almacenar en una variable. Ten en cuenta que los elementos de la lista pueden ser de diferentes tipos:"
   ]
  },
  {
   "cell_type": "code",
   "execution_count": 20,
   "metadata": {},
   "outputs": [
    {
     "data": {
      "text/plain": [
       "list"
      ]
     },
     "execution_count": 20,
     "metadata": {},
     "output_type": "execute_result"
    }
   ],
   "source": [
    "my_list = ['hello', 3.8, True, 'Python']\n",
    "type(my_list)"
   ]
  },
  {
   "attachments": {},
   "cell_type": "markdown",
   "metadata": {},
   "source": [
    "Podemos ver cuántos elementos hay en la lista con `len()`:"
   ]
  },
  {
   "cell_type": "code",
   "execution_count": 21,
   "metadata": {},
   "outputs": [
    {
     "data": {
      "text/plain": [
       "4"
      ]
     },
     "execution_count": 21,
     "metadata": {},
     "output_type": "execute_result"
    }
   ],
   "source": [
    "len(my_list)"
   ]
  },
  {
   "attachments": {},
   "cell_type": "markdown",
   "metadata": {},
   "source": [
    "También podemos usar el operador `in` para verificar si un valor está en la lista:"
   ]
  },
  {
   "cell_type": "code",
   "execution_count": 22,
   "metadata": {},
   "outputs": [
    {
     "data": {
      "text/plain": [
       "False"
      ]
     },
     "execution_count": 22,
     "metadata": {},
     "output_type": "execute_result"
    }
   ],
   "source": [
    "'world' in my_list"
   ]
  },
  {
   "attachments": {},
   "cell_type": "markdown",
   "metadata": {},
   "source": [
    "Podemos seleccionar elementos en la lista de la misma manera que hicimos con las cadenas de texto, proporcionando el índice para seleccionar:"
   ]
  },
  {
   "cell_type": "code",
   "execution_count": 23,
   "metadata": {},
   "outputs": [
    {
     "data": {
      "text/plain": [
       "3.8"
      ]
     },
     "execution_count": 23,
     "metadata": {},
     "output_type": "execute_result"
    }
   ],
   "source": [
    "my_list[1]"
   ]
  },
  {
   "attachments": {},
   "cell_type": "markdown",
   "metadata": {},
   "source": [
    "Python también nos permite usar valores negativos, por lo que podemos seleccionar fácilmente el último elemento:"
   ]
  },
  {
   "cell_type": "code",
   "execution_count": 24,
   "metadata": {},
   "outputs": [
    {
     "data": {
      "text/plain": [
       "'Python'"
      ]
     },
     "execution_count": 24,
     "metadata": {},
     "output_type": "execute_result"
    }
   ],
   "source": [
    "my_list[-1]"
   ]
  },
  {
   "attachments": {},
   "cell_type": "markdown",
   "metadata": {},
   "source": [
    "Otra característica poderosa de las listas (y cadenas de texto) es el **slicing** (segmentación). Podemos obtener los 2 elementos del medio en la lista:"
   ]
  },
  {
   "cell_type": "code",
   "execution_count": 25,
   "metadata": {},
   "outputs": [
    {
     "data": {
      "text/plain": [
       "[3.8, True]"
      ]
     },
     "execution_count": 25,
     "metadata": {},
     "output_type": "execute_result"
    }
   ],
   "source": [
    "my_list[1:3]"
   ]
  },
  {
   "attachments": {},
   "cell_type": "markdown",
   "metadata": {},
   "source": [
    "... o cada dos elementos:"
   ]
  },
  {
   "cell_type": "code",
   "execution_count": 26,
   "metadata": {},
   "outputs": [
    {
     "data": {
      "text/plain": [
       "['hello', True]"
      ]
     },
     "execution_count": 26,
     "metadata": {},
     "output_type": "execute_result"
    }
   ],
   "source": [
    "my_list[::2]"
   ]
  },
  {
   "attachments": {},
   "cell_type": "markdown",
   "metadata": {},
   "source": [
    "Incluso podemos seleccionar la lista en orden inverso:"
   ]
  },
  {
   "cell_type": "code",
   "execution_count": 27,
   "metadata": {},
   "outputs": [
    {
     "data": {
      "text/plain": [
       "['Python', True, 3.8, 'hello']"
      ]
     },
     "execution_count": 27,
     "metadata": {},
     "output_type": "execute_result"
    }
   ],
   "source": [
    "my_list[::-1]"
   ]
  },
  {
   "attachments": {},
   "cell_type": "markdown",
   "metadata": {},
   "source": [
    "Nota: Esta sintaxis es `[inicio:fin:paso]`, donde la selección incluye el índice de inicio, pero excluye el índice de fin. Si no se proporciona `inicio`, se usa `0`. Si no se proporciona `fin`, se usa el número de elementos (4, en nuestro caso); esto funciona porque el `fin` es exclusivo. Si no se proporciona `paso`, es 1.\n",
    "\n",
    "Podemos usar el método `join()` en un objeto de cadena de texto para concatenar todos los elementos de una lista en una sola cadena. La cadena en la que llamamos al método `join()` se utilizará como separador; aquí, separamos con una barra vertical (|):"
   ]
  },
  {
   "cell_type": "code",
   "execution_count": 28,
   "metadata": {},
   "outputs": [
    {
     "data": {
      "text/plain": [
       "'x|y|z'"
      ]
     },
     "execution_count": 28,
     "metadata": {},
     "output_type": "execute_result"
    }
   ],
   "source": [
    "'|'.join(['x', 'y', 'z'])"
   ]
  },
  {
   "attachments": {},
   "cell_type": "markdown",
   "metadata": {},
   "source": [
    "### Tuplas\n",
    "Las tuplas son similares a las listas; sin embargo, no se pueden modificar después de su creación, es decir, son **inmutables**. En lugar de corchetes, usamos paréntesis para crear tuplas:"
   ]
  },
  {
   "cell_type": "code",
   "execution_count": 29,
   "metadata": {},
   "outputs": [
    {
     "data": {
      "text/plain": [
       "tuple"
      ]
     },
     "execution_count": 29,
     "metadata": {},
     "output_type": "execute_result"
    }
   ],
   "source": [
    "my_tuple = ('a', 5)\n",
    "type(my_tuple)"
   ]
  },
  {
   "cell_type": "code",
   "execution_count": 30,
   "metadata": {},
   "outputs": [
    {
     "data": {
      "text/plain": [
       "'a'"
      ]
     },
     "execution_count": 30,
     "metadata": {},
     "output_type": "execute_result"
    }
   ],
   "source": [
    "my_tuple[0]"
   ]
  },
  {
   "attachments": {},
   "cell_type": "markdown",
   "metadata": {},
   "source": [
    "Los objetos inmutables no se pueden modificar:"
   ]
  },
  {
   "cell_type": "code",
   "execution_count": 31,
   "metadata": {},
   "outputs": [
    {
     "ename": "TypeError",
     "evalue": "'tuple' object does not support item assignment",
     "output_type": "error",
     "traceback": [
      "\u001b[0;31m---------------------------------------------------------------------------\u001b[0m",
      "\u001b[0;31mTypeError\u001b[0m                                 Traceback (most recent call last)",
      "\u001b[1;32m/Users/becerrosky/Library/CloudStorage/OneDrive-Personal/Data Analytics Cursos/Hands-On-Data-Analysis-with-Pandas-2nd-edition/ch_01/python_101.ipynb Cell 56\u001b[0m in \u001b[0;36m<cell line: 1>\u001b[0;34m()\u001b[0m\n\u001b[0;32m----> <a href='vscode-notebook-cell:/Users/becerrosky/Library/CloudStorage/OneDrive-Personal/Data%20Analytics%20Cursos/Hands-On-Data-Analysis-with-Pandas-2nd-edition/ch_01/python_101.ipynb#Y106sZmlsZQ%3D%3D?line=0'>1</a>\u001b[0m my_tuple[\u001b[39m0\u001b[39m] \u001b[39m=\u001b[39m \u001b[39m'\u001b[39m\u001b[39mb\u001b[39m\u001b[39m'\u001b[39m\n",
      "\u001b[0;31mTypeError\u001b[0m: 'tuple' object does not support item assignment"
     ]
    }
   ],
   "source": [
    "my_tuple[0] = 'b'"
   ]
  },
  {
   "cell_type": "markdown",
   "metadata": {},
   "source": [
    "### Dictionaries\n",
    "We can store mappings of key-value pairs using dictionaries:"
   ]
  },
  {
   "cell_type": "code",
   "execution_count": 32,
   "metadata": {},
   "outputs": [
    {
     "data": {
      "text/plain": [
       "dict"
      ]
     },
     "execution_count": 32,
     "metadata": {},
     "output_type": "execute_result"
    }
   ],
   "source": [
    "shopping_list = {\n",
    "    'veggies': ['spinach', 'kale', 'beets'],\n",
    "    'fruits': 'bananas',\n",
    "    'meat': 0    \n",
    "}\n",
    "type(shopping_list)"
   ]
  },
  {
   "attachments": {},
   "cell_type": "markdown",
   "metadata": {},
   "source": [
    "Para acceder a los valores asociados con una clave específica, usamos nuevamente la notación de corchetes:"
   ]
  },
  {
   "cell_type": "code",
   "execution_count": 33,
   "metadata": {},
   "outputs": [
    {
     "data": {
      "text/plain": [
       "['spinach', 'kale', 'beets']"
      ]
     },
     "execution_count": 33,
     "metadata": {},
     "output_type": "execute_result"
    }
   ],
   "source": [
    "shopping_list['veggies']"
   ]
  },
  {
   "attachments": {},
   "cell_type": "markdown",
   "metadata": {},
   "source": [
    "Podemos extraer todas las claves con `keys()`:"
   ]
  },
  {
   "cell_type": "code",
   "execution_count": 34,
   "metadata": {},
   "outputs": [
    {
     "data": {
      "text/plain": [
       "dict_keys(['veggies', 'fruits', 'meat'])"
      ]
     },
     "execution_count": 34,
     "metadata": {},
     "output_type": "execute_result"
    }
   ],
   "source": [
    "shopping_list.keys()"
   ]
  },
  {
   "attachments": {},
   "cell_type": "markdown",
   "metadata": {},
   "source": [
    "Podemos extraer todos los valores con `values()`:"
   ]
  },
  {
   "cell_type": "code",
   "execution_count": 35,
   "metadata": {},
   "outputs": [
    {
     "data": {
      "text/plain": [
       "dict_values([['spinach', 'kale', 'beets'], 'bananas', 0])"
      ]
     },
     "execution_count": 35,
     "metadata": {},
     "output_type": "execute_result"
    }
   ],
   "source": [
    "shopping_list.values()"
   ]
  },
  {
   "attachments": {},
   "cell_type": "markdown",
   "metadata": {},
   "source": [
    "Finalmente, podemos llamar a `items()` para obtener pares de (clave, valor):"
   ]
  },
  {
   "cell_type": "code",
   "execution_count": 36,
   "metadata": {},
   "outputs": [
    {
     "data": {
      "text/plain": [
       "dict_items([('veggies', ['spinach', 'kale', 'beets']), ('fruits', 'bananas'), ('meat', 0)])"
      ]
     },
     "execution_count": 36,
     "metadata": {},
     "output_type": "execute_result"
    }
   ],
   "source": [
    "shopping_list.items()"
   ]
  },
  {
   "attachments": {},
   "cell_type": "markdown",
   "metadata": {},
   "source": [
    "### Conjuntos (Sets)\n",
    "Un conjunto es una colección de elementos únicos; un uso común es eliminar duplicados de una lista. Estos se escriben con llaves, pero nota que no hay mapeo clave-valor:"
   ]
  },
  {
   "cell_type": "code",
   "execution_count": 37,
   "metadata": {},
   "outputs": [
    {
     "data": {
      "text/plain": [
       "set"
      ]
     },
     "execution_count": 37,
     "metadata": {},
     "output_type": "execute_result"
    }
   ],
   "source": [
    "my_set = {1, 1, 2, 'a'}\n",
    "type(my_set)"
   ]
  },
  {
   "attachments": {},
   "cell_type": "markdown",
   "metadata": {},
   "source": [
    "¿Cuántos elementos hay en este conjunto?"
   ]
  },
  {
   "cell_type": "code",
   "execution_count": 38,
   "metadata": {},
   "outputs": [
    {
     "data": {
      "text/plain": [
       "3"
      ]
     },
     "execution_count": 38,
     "metadata": {},
     "output_type": "execute_result"
    }
   ],
   "source": [
    "len(my_set)"
   ]
  },
  {
   "attachments": {},
   "cell_type": "markdown",
   "metadata": {},
   "source": [
    "Ingresamos 4 elementos, pero el conjunto solo tiene 3 porque los duplicados se eliminan:"
   ]
  },
  {
   "cell_type": "code",
   "execution_count": 39,
   "metadata": {},
   "outputs": [
    {
     "data": {
      "text/plain": [
       "{1, 2, 'a'}"
      ]
     },
     "execution_count": 39,
     "metadata": {},
     "output_type": "execute_result"
    }
   ],
   "source": [
    "my_set"
   ]
  },
  {
   "attachments": {},
   "cell_type": "markdown",
   "metadata": {},
   "source": [
    "Podemos verificar si un valor está en el conjunto:"
   ]
  },
  {
   "cell_type": "code",
   "execution_count": 40,
   "metadata": {},
   "outputs": [
    {
     "data": {
      "text/plain": [
       "True"
      ]
     },
     "execution_count": 40,
     "metadata": {},
     "output_type": "execute_result"
    }
   ],
   "source": [
    "2 in my_set"
   ]
  },
  {
   "attachments": {},
   "cell_type": "markdown",
   "metadata": {},
   "source": [
    "## Funciones\n",
    "Podemos definir funciones para empaquetar nuestro código y reutilizarlo. Ya hemos visto algunas funciones: `len()`, `type()` y `print()`. Todas ellas son funciones que aceptan **argumentos**. Ten en cuenta que las funciones no necesitan aceptar argumentos; en ese caso, se llaman sin pasar nada (por ejemplo, `print()` versus `print(mi_cadena)`).\n",
    "\n",
    "*Nota: también podemos crear listas, conjuntos, diccionarios y tuplas con funciones: `list()`, `set()`, `dict()` y `tuple()`.*\n",
    "\n",
    "### Definiendo funciones\n",
    "\n",
    "Usamos la palabra clave `def` para definir funciones. Vamos a crear una función llamada `add()` con 2 parámetros, `x` y `y`, que serán los nombres que el código dentro de la función usará para referirse a los argumentos que pasemos al llamarla:"
   ]
  },
  {
   "cell_type": "code",
   "execution_count": 43,
   "metadata": {},
   "outputs": [],
   "source": [
    "def add(x, y):\n",
    "    \"\"\"Este es un docstring. Se utiliza para explicar cómo funciona el código y es opcional (pero recomendable).\"\"\"\n",
    "    # este es un comentario; nos permite anotar el código\n",
    "    print('Realizando suma')\n",
    "    return x + y"
   ]
  },
  {
   "attachments": {},
   "cell_type": "markdown",
   "metadata": {},
   "source": [
    "Una vez que ejecutamos el código anterior, nuestra función está lista para usarse:"
   ]
  },
  {
   "cell_type": "code",
   "execution_count": 44,
   "metadata": {},
   "outputs": [
    {
     "data": {
      "text/plain": [
       "function"
      ]
     },
     "execution_count": 44,
     "metadata": {},
     "output_type": "execute_result"
    }
   ],
   "source": [
    "type(add)"
   ]
  },
  {
   "attachments": {},
   "cell_type": "markdown",
   "metadata": {},
   "source": [
    "Vamos a sumar algunos números:"
   ]
  },
  {
   "cell_type": "code",
   "execution_count": 46,
   "metadata": {},
   "outputs": [
    {
     "name": "stdout",
     "output_type": "stream",
     "text": [
      "Realizando suma\n"
     ]
    },
    {
     "data": {
      "text/plain": [
       "3"
      ]
     },
     "execution_count": 46,
     "metadata": {},
     "output_type": "execute_result"
    }
   ],
   "source": [
    "add(1, 2)"
   ]
  },
  {
   "attachments": {},
   "cell_type": "markdown",
   "metadata": {},
   "source": [
    "### Valores de retorno\n",
    "Podemos almacenar el resultado en una variable para usarlo más tarde:"
   ]
  },
  {
   "cell_type": "code",
   "execution_count": 47,
   "metadata": {},
   "outputs": [
    {
     "name": "stdout",
     "output_type": "stream",
     "text": [
      "Realizando suma\n"
     ]
    }
   ],
   "source": [
    "result = add(1, 2)"
   ]
  },
  {
   "attachments": {},
   "cell_type": "markdown",
   "metadata": {},
   "source": [
    "Nota que la declaración `print` no se capturó en `result`. Esta variable solo contendrá lo que la función **retorna**. Esto es lo que hizo la línea `return` en la definición de la función:"
   ]
  },
  {
   "cell_type": "code",
   "execution_count": 48,
   "metadata": {},
   "outputs": [
    {
     "data": {
      "text/plain": [
       "3"
      ]
     },
     "execution_count": 48,
     "metadata": {},
     "output_type": "execute_result"
    }
   ],
   "source": [
    "result"
   ]
  },
  {
   "attachments": {},
   "cell_type": "markdown",
   "metadata": {},
   "source": [
    "Ten en cuenta que las funciones no tienen que retornar nada. Considera `print()`:"
   ]
  },
  {
   "cell_type": "code",
   "execution_count": 49,
   "metadata": {},
   "outputs": [
    {
     "name": "stdout",
     "output_type": "stream",
     "text": [
      "hello world\n"
     ]
    }
   ],
   "source": [
    "print_result = print('hello world')"
   ]
  },
  {
   "attachments": {},
   "cell_type": "markdown",
   "metadata": {},
   "source": [
    "Si observamos lo que obtenemos, veremos que es un objeto de tipo `NoneType`:"
   ]
  },
  {
   "cell_type": "code",
   "execution_count": 50,
   "metadata": {},
   "outputs": [
    {
     "data": {
      "text/plain": [
       "NoneType"
      ]
     },
     "execution_count": 50,
     "metadata": {},
     "output_type": "execute_result"
    }
   ],
   "source": [
    "type(print_result)"
   ]
  },
  {
   "attachments": {},
   "cell_type": "markdown",
   "metadata": {},
   "source": [
    "En Python, el valor `None` representa valores nulos. Podemos verificar si nuestra variable *es* `None`:"
   ]
  },
  {
   "cell_type": "code",
   "execution_count": 51,
   "metadata": {},
   "outputs": [
    {
     "data": {
      "text/plain": [
       "True"
      ]
     },
     "execution_count": 51,
     "metadata": {},
     "output_type": "execute_result"
    }
   ],
   "source": [
    "print_result is None"
   ]
  },
  {
   "attachments": {},
   "cell_type": "markdown",
   "metadata": {},
   "source": [
    "*Advertencia: asegúrate de usar operadores de comparación (por ejemplo, >, >=, <, <=, ==, !=) para comparar con valores distintos de `None`.*\n",
    "\n",
    "### Argumentos de función\n",
    "\n",
    "*Ten en cuenta que los argumentos de las funciones pueden ser cualquier cosa, incluso otras funciones. Veremos varios ejemplos de esto en el texto.*\n",
    "\n",
    "La función que definimos requiere argumentos. Si no los proporcionamos todos, causará un error:"
   ]
  },
  {
   "cell_type": "code",
   "execution_count": 52,
   "metadata": {},
   "outputs": [
    {
     "ename": "TypeError",
     "evalue": "add() missing 1 required positional argument: 'y'",
     "output_type": "error",
     "traceback": [
      "\u001b[0;31m---------------------------------------------------------------------------\u001b[0m",
      "\u001b[0;31mTypeError\u001b[0m                                 Traceback (most recent call last)",
      "\u001b[1;32m/Users/becerrosky/Library/CloudStorage/OneDrive-Personal/Data Analytics Cursos/Hands-On-Data-Analysis-with-Pandas-2nd-edition/ch_01/python_101.ipynb Cell 92\u001b[0m in \u001b[0;36m<cell line: 1>\u001b[0;34m()\u001b[0m\n\u001b[0;32m----> <a href='vscode-notebook-cell:/Users/becerrosky/Library/CloudStorage/OneDrive-Personal/Data%20Analytics%20Cursos/Hands-On-Data-Analysis-with-Pandas-2nd-edition/ch_01/python_101.ipynb#Y160sZmlsZQ%3D%3D?line=0'>1</a>\u001b[0m add(\u001b[39m1\u001b[39;49m)\n",
      "\u001b[0;31mTypeError\u001b[0m: add() missing 1 required positional argument: 'y'"
     ]
    }
   ],
   "source": [
    "add(1)"
   ]
  },
  {
   "attachments": {},
   "cell_type": "markdown",
   "metadata": {},
   "source": [
    "Podemos usar `help()` para verificar qué argumentos necesita la función (nota que el docstring aparece aquí):"
   ]
  },
  {
   "cell_type": "code",
   "execution_count": 54,
   "metadata": {},
   "outputs": [
    {
     "name": "stdout",
     "output_type": "stream",
     "text": [
      "Help on function add in module __main__:\n",
      "\n",
      "add(x, y)\n",
      "    Este es un docstring. Se utiliza para explicar cómo funciona el código y es opcional (pero recomendable).\n",
      "\n"
     ]
    }
   ],
   "source": [
    "help(add)"
   ]
  },
  {
   "attachments": {},
   "cell_type": "markdown",
   "metadata": {},
   "source": [
    "También obtendremos errores si pasamos tipos de datos con los que `add()` no puede trabajar:"
   ]
  },
  {
   "cell_type": "code",
   "execution_count": 55,
   "metadata": {},
   "outputs": [
    {
     "name": "stdout",
     "output_type": "stream",
     "text": [
      "Realizando suma\n"
     ]
    },
    {
     "ename": "TypeError",
     "evalue": "unsupported operand type(s) for +: 'set' and 'set'",
     "output_type": "error",
     "traceback": [
      "\u001b[0;31m---------------------------------------------------------------------------\u001b[0m",
      "\u001b[0;31mTypeError\u001b[0m                                 Traceback (most recent call last)",
      "\u001b[1;32m/Users/becerrosky/Library/CloudStorage/OneDrive-Personal/Data Analytics Cursos/Hands-On-Data-Analysis-with-Pandas-2nd-edition/ch_01/python_101.ipynb Cell 96\u001b[0m in \u001b[0;36m<cell line: 1>\u001b[0;34m()\u001b[0m\n\u001b[0;32m----> <a href='vscode-notebook-cell:/Users/becerrosky/Library/CloudStorage/OneDrive-Personal/Data%20Analytics%20Cursos/Hands-On-Data-Analysis-with-Pandas-2nd-edition/ch_01/python_101.ipynb#Y164sZmlsZQ%3D%3D?line=0'>1</a>\u001b[0m add(\u001b[39mset\u001b[39;49m(), \u001b[39mset\u001b[39;49m())\n",
      "\u001b[1;32m/Users/becerrosky/Library/CloudStorage/OneDrive-Personal/Data Analytics Cursos/Hands-On-Data-Analysis-with-Pandas-2nd-edition/ch_01/python_101.ipynb Cell 96\u001b[0m in \u001b[0;36madd\u001b[0;34m(x, y)\u001b[0m\n\u001b[1;32m      <a href='vscode-notebook-cell:/Users/becerrosky/Library/CloudStorage/OneDrive-Personal/Data%20Analytics%20Cursos/Hands-On-Data-Analysis-with-Pandas-2nd-edition/ch_01/python_101.ipynb#Y164sZmlsZQ%3D%3D?line=2'>3</a>\u001b[0m \u001b[39m# este es un comentario; nos permite anotar el código\u001b[39;00m\n\u001b[1;32m      <a href='vscode-notebook-cell:/Users/becerrosky/Library/CloudStorage/OneDrive-Personal/Data%20Analytics%20Cursos/Hands-On-Data-Analysis-with-Pandas-2nd-edition/ch_01/python_101.ipynb#Y164sZmlsZQ%3D%3D?line=3'>4</a>\u001b[0m \u001b[39mprint\u001b[39m(\u001b[39m'\u001b[39m\u001b[39mRealizando suma\u001b[39m\u001b[39m'\u001b[39m)\n\u001b[0;32m----> <a href='vscode-notebook-cell:/Users/becerrosky/Library/CloudStorage/OneDrive-Personal/Data%20Analytics%20Cursos/Hands-On-Data-Analysis-with-Pandas-2nd-edition/ch_01/python_101.ipynb#Y164sZmlsZQ%3D%3D?line=4'>5</a>\u001b[0m \u001b[39mreturn\u001b[39;00m x \u001b[39m+\u001b[39;49m y\n",
      "\u001b[0;31mTypeError\u001b[0m: unsupported operand type(s) for +: 'set' and 'set'"
     ]
    }
   ],
   "source": [
    "add(set(), set())"
   ]
  },
  {
   "attachments": {},
   "cell_type": "markdown",
   "metadata": {},
   "source": [
    "Hablaremos sobre el manejo de errores en el texto.\n",
    "\n",
    "## Declaraciones de Control de Flujo\n",
    "A veces queremos variar el camino que toma el código en función de ciertos criterios. Para esto, tenemos `if`, `elif` y `else`. Podemos usar `if` por sí solo:"
   ]
  },
  {
   "cell_type": "code",
   "execution_count": 60,
   "metadata": {},
   "outputs": [],
   "source": [
    "def make_positive(x):\n",
    "    \"\"\"Returns a positive x\"\"\"\n",
    "    if x < 0:\n",
    "        x *= -1\n",
    "    return x"
   ]
  },
  {
   "attachments": {},
   "cell_type": "markdown",
   "metadata": {},
   "source": [
    "Llamar a esta función con una entrada negativa hace que se ejecute el código bajo la declaración `if`:"
   ]
  },
  {
   "cell_type": "code",
   "execution_count": 61,
   "metadata": {},
   "outputs": [
    {
     "data": {
      "text/plain": [
       "1"
      ]
     },
     "execution_count": 61,
     "metadata": {},
     "output_type": "execute_result"
    }
   ],
   "source": [
    "make_positive(-1)"
   ]
  },
  {
   "attachments": {},
   "cell_type": "markdown",
   "metadata": {},
   "source": [
    "Llamar a esta función con una entrada positiva omite el código bajo la declaración `if`, manteniendo el número positivo:"
   ]
  },
  {
   "cell_type": "code",
   "execution_count": 62,
   "metadata": {},
   "outputs": [
    {
     "data": {
      "text/plain": [
       "2"
      ]
     },
     "execution_count": 62,
     "metadata": {},
     "output_type": "execute_result"
    }
   ],
   "source": [
    "make_positive(2)"
   ]
  },
  {
   "attachments": {},
   "cell_type": "markdown",
   "metadata": {},
   "source": [
    "A veces, también necesitamos una declaración `else`:\n",
    "```​⬤"
   ]
  },
  {
   "cell_type": "code",
   "execution_count": 63,
   "metadata": {},
   "outputs": [],
   "source": [
    "def add_or_subtract(operation, x, y):\n",
    "    if operation == 'add':\n",
    "        return x + y\n",
    "    else:\n",
    "        return x - y"
   ]
  },
  {
   "attachments": {},
   "cell_type": "markdown",
   "metadata": {},
   "source": [
    "Esto activa el código bajo la declaración `if`:"
   ]
  },
  {
   "cell_type": "code",
   "execution_count": 64,
   "metadata": {},
   "outputs": [
    {
     "data": {
      "text/plain": [
       "3"
      ]
     },
     "execution_count": 64,
     "metadata": {},
     "output_type": "execute_result"
    }
   ],
   "source": [
    "add_or_subtract('add', 1, 2)"
   ]
  },
  {
   "attachments": {},
   "cell_type": "markdown",
   "metadata": {},
   "source": [
    "Dado que la verificación booleana en la declaración `if` fue `False`, esto activa el código bajo la declaración `else`:"
   ]
  },
  {
   "cell_type": "code",
   "execution_count": 66,
   "metadata": {},
   "outputs": [
    {
     "data": {
      "text/plain": [
       "-1"
      ]
     },
     "execution_count": 66,
     "metadata": {},
     "output_type": "execute_result"
    }
   ],
   "source": [
    "add_or_subtract('subtract', 1, 2)"
   ]
  },
  {
   "attachments": {},
   "cell_type": "markdown",
   "metadata": {},
   "source": [
    "Para lógica más complicada, también podemos usar `elif`. Podemos tener cualquier número de declaraciones `elif`. Opcionalmente, podemos incluir `else`."
   ]
  },
  {
   "cell_type": "code",
   "execution_count": 67,
   "metadata": {},
   "outputs": [],
   "source": [
    "def calculate(operation, x, y):\n",
    "    if operation == 'add':\n",
    "        return x + y\n",
    "    elif operation == 'subtract':\n",
    "        return x - y\n",
    "    elif operation == 'multiply':\n",
    "        return x * y\n",
    "    elif operation == 'division':\n",
    "        return x / y\n",
    "    else:\n",
    "        print(\"Este caso no ha sido manejado\")"
   ]
  },
  {
   "attachments": {},
   "cell_type": "markdown",
   "metadata": {},
   "source": [
    "El código sigue verificando las condiciones en las declaraciones `if` de arriba hacia abajo hasta que encuentra `multiply`:"
   ]
  },
  {
   "cell_type": "code",
   "execution_count": 68,
   "metadata": {},
   "outputs": [
    {
     "data": {
      "text/plain": [
       "12"
      ]
     },
     "execution_count": 68,
     "metadata": {},
     "output_type": "execute_result"
    }
   ],
   "source": [
    "calculate('multiply', 3, 4)"
   ]
  },
  {
   "attachments": {},
   "cell_type": "markdown",
   "metadata": {},
   "source": [
    "El código sigue verificando las condiciones en las declaraciones `if` de arriba hacia abajo hasta que llega a la declaración `else`:"
   ]
  },
  {
   "cell_type": "code",
   "execution_count": 69,
   "metadata": {},
   "outputs": [
    {
     "name": "stdout",
     "output_type": "stream",
     "text": [
      "Este caso no ha sido manejado\n"
     ]
    }
   ],
   "source": [
    "calculate('power', 3, 4)"
   ]
  },
  {
   "attachments": {},
   "cell_type": "markdown",
   "metadata": {},
   "source": [
    "## Bucles\n",
    "### Bucles `while`\n",
    "Con los bucles `while`, podemos seguir ejecutando código hasta que se cumpla alguna condición de detención:"
   ]
  },
  {
   "cell_type": "code",
   "execution_count": 72,
   "metadata": {},
   "outputs": [
    {
     "name": "stdout",
     "output_type": "stream",
     "text": [
      "Todavía en marcha... 2\n",
      "Todavía en marcha... 4\n",
      "Todavía en marcha... 8\n"
     ]
    }
   ],
   "source": [
    "done = False\n",
    "value = 2\n",
    "while not done:\n",
    "    print('Todavía en marcha...', value)\n",
    "    value *= 2\n",
    "    if value > 10:\n",
    "        done = True"
   ]
  },
  {
   "attachments": {},
   "cell_type": "markdown",
   "metadata": {},
   "source": [
    "Nota que esto también se puede escribir moviendo la condición a la declaración `while`:"
   ]
  },
  {
   "cell_type": "code",
   "execution_count": 73,
   "metadata": {},
   "outputs": [
    {
     "name": "stdout",
     "output_type": "stream",
     "text": [
      "Todavía en marcha... 2\n",
      "Todavía en marcha... 4\n",
      "Todavía en marcha... 8\n"
     ]
    }
   ],
   "source": [
    "value = 2\n",
    "while value < 10:\n",
    "    print('Todavía en marcha...', value)\n",
    "    value *= 2"
   ]
  },
  {
   "attachments": {},
   "cell_type": "markdown",
   "metadata": {},
   "source": [
    "### `for` loops\n",
    "Con los bucles `for`, podemos ejecutar nuestro código *por cada* elemento en una colección:"
   ]
  },
  {
   "cell_type": "code",
   "execution_count": 74,
   "metadata": {},
   "outputs": [
    {
     "name": "stdout",
     "output_type": "stream",
     "text": [
      "0\n",
      "1\n",
      "2\n",
      "3\n",
      "4\n"
     ]
    }
   ],
   "source": [
    "for i in range(5):\n",
    "    print(i)"
   ]
  },
  {
   "attachments": {},
   "cell_type": "markdown",
   "metadata": {},
   "source": [
    "Podemos usar bucles `for` con listas, tuplas, conjuntos y diccionarios también:"
   ]
  },
  {
   "cell_type": "code",
   "execution_count": 75,
   "metadata": {},
   "outputs": [
    {
     "name": "stdout",
     "output_type": "stream",
     "text": [
      "hello\n",
      "3.8\n",
      "True\n",
      "Python\n"
     ]
    }
   ],
   "source": [
    "for element in my_list:\n",
    "    print(element)"
   ]
  },
  {
   "cell_type": "code",
   "execution_count": 76,
   "metadata": {},
   "outputs": [
    {
     "name": "stdout",
     "output_type": "stream",
     "text": [
      "Para veggies nosotors necesitamos comprar ['spinach', 'kale', 'beets']\n",
      "Para fruits nosotors necesitamos comprar bananas\n",
      "Para meat nosotors necesitamos comprar 0\n"
     ]
    }
   ],
   "source": [
    "for key, value in shopping_list.items():\n",
    "    print('Para', key, 'nosotors necesitamos comprar', value)"
   ]
  },
  {
   "attachments": {},
   "cell_type": "markdown",
   "metadata": {},
   "source": [
    "Con los bucles `for`, no tenemos que preocuparnos por verificar si hemos alcanzado la condición de detención. En cambio, los bucles `while` pueden causar bucles infinitos si no recordamos actualizar las variables.\n",
    "\n",
    "## Importaciones\n",
    "Hemos estado trabajando con la parte de Python que está disponible sin importar funcionalidad adicional. La biblioteca estándar de Python que viene con la instalación de Python está dividida en varios **módulos**, pero a menudo solo necesitamos algunos. Podemos importar lo que necesitemos: un módulo de la biblioteca estándar, una biblioteca de terceros o código que hayamos escrito. Esto se hace con una declaración `import`:"
   ]
  },
  {
   "cell_type": "code",
   "execution_count": 77,
   "metadata": {},
   "outputs": [
    {
     "name": "stdout",
     "output_type": "stream",
     "text": [
      "3.141592653589793\n"
     ]
    }
   ],
   "source": [
    "import math\n",
    "\n",
    "print(math.pi)"
   ]
  },
  {
   "attachments": {},
   "cell_type": "markdown",
   "metadata": {},
   "source": [
    "Si solo necesitamos una pequeña parte de ese módulo, podemos hacer lo siguiente en su lugar:"
   ]
  },
  {
   "cell_type": "code",
   "execution_count": 78,
   "metadata": {},
   "outputs": [
    {
     "name": "stdout",
     "output_type": "stream",
     "text": [
      "3.141592653589793\n"
     ]
    }
   ],
   "source": [
    "from math import pi\n",
    "\n",
    "print(pi)"
   ]
  },
  {
   "attachments": {},
   "cell_type": "markdown",
   "metadata": {},
   "source": [
    "*Advertencia: todo lo que importes se agrega al espacio de nombres, por lo que si creas una nueva variable/función/etc. con el mismo nombre, sobrescribirá el valor anterior. Por esta razón, debemos tener cuidado con los nombres de variables; por ejemplo, si nombras algo `sum`, ya no podrás sumar usando la función incorporada `sum()`. Usar cuadernos o un IDE te ayudará a evitar estos problemas con el resaltado de sintaxis.*\n",
    "\n",
    "## Instalación de Paquetes de Terceros\n",
    "**NOTA: Cubriremos la configuración del entorno en el texto; esto es solo para referencia.**\n",
    "\n",
    "Podemos usar [`pip`](https://pip.pypa.io/en/stable/reference/) o [`conda`](https://docs.conda.io/projects/conda/en/latest/commands.html) para instalar paquetes, dependiendo de cómo hayamos creado nuestro entorno virtual. El texto recorre los comandos para crear entornos virtuales con `venv` y `conda`. El entorno **DEBE** estar activado antes de instalar los paquetes para este texto; de lo contrario, es posible que interfieran con otros proyectos en tu máquina o viceversa.\n",
    "\n",
    "Para instalar un paquete, podemos usar `pip3 install <nombre_paquete>`. Opcionalmente, podemos proporcionar una versión específica para instalar: `pip3 install pandas==0.23.4`. Sin esa especificación, obtendremos la versión más estable. Cuando tenemos muchos paquetes para instalar (como en este libro), generalmente usaremos un archivo `requirements.txt`: `pip3 install -r requirements.txt`.\n",
    "\n",
    "*Nota: ejecutar `pip3 freeze > requirements.txt` enviará la lista de paquetes instalados en el entorno activado y sus respectivas versiones al archivo `requirements.txt`.*\n",
    "\n",
    "## Clases\n",
    "*NOTA: Discutiremos esto más a fondo en el texto en el capítulo 7. Por ahora, es importante estar al tanto de la sintaxis en esta sección.*\n",
    "\n",
    "Hasta ahora, hemos usado Python como un lenguaje de programación funcional, pero también tenemos la opción de usarlo para **programación orientada a objetos**. Puedes pensar en una `clase` como una forma de agrupar funcionalidades similares. Vamos a crear una clase calculadora que pueda manejar operaciones matemáticas para nosotros. Para esto, usamos la palabra clave `class` y definimos **métodos** para realizar acciones en la calculadora. Estos métodos son funciones que toman `self` como primer argumento. Al llamarlos, no pasamos nada para ese argumento (ejemplo después de esto):"
   ]
  },
  {
   "cell_type": "code",
   "execution_count": 80,
   "metadata": {},
   "outputs": [],
   "source": [
    "class Calculator:\n",
    "    \"\"\"This is the class docstring.\"\"\"\n",
    "    \n",
    "    def __init__(self):\n",
    "        \"\"\"This is a method and it is called when we create an object of type `Calculator`.\"\"\"\n",
    "        self.on = False\n",
    "        \n",
    "    def turn_on(self):\n",
    "        \"\"\"This method turns on the calculator.\"\"\"\n",
    "        self.on = True\n",
    "    \n",
    "    def add(self, x, y):\n",
    "        \"\"\"Perform addition if calculator is on\"\"\"\n",
    "        if self.on:\n",
    "            return x + y\n",
    "        else:\n",
    "            print('the calculator is not on')"
   ]
  },
  {
   "attachments": {},
   "cell_type": "markdown",
   "metadata": {},
   "source": [
    "Para usar la calculadora, necesitamos **instanciar** una instancia u objeto del tipo `Calculator`. Dado que el método `__init__()` no tiene parámetros además de `self`, no necesitamos proporcionar nada:"
   ]
  },
  {
   "cell_type": "code",
   "execution_count": 81,
   "metadata": {},
   "outputs": [],
   "source": [
    "my_calculator = Calculator()"
   ]
  },
  {
   "attachments": {},
   "cell_type": "markdown",
   "metadata": {},
   "source": [
    "Vamos a intentar sumar algunos números:"
   ]
  },
  {
   "cell_type": "code",
   "execution_count": 82,
   "metadata": {},
   "outputs": [
    {
     "name": "stdout",
     "output_type": "stream",
     "text": [
      "the calculator is not on\n"
     ]
    }
   ],
   "source": [
    "my_calculator.add(1, 2)"
   ]
  },
  {
   "attachments": {},
   "cell_type": "markdown",
   "metadata": {},
   "source": [
    "¡Ups! La calculadora no está encendida. Vamos a encenderla:"
   ]
  },
  {
   "cell_type": "code",
   "execution_count": 83,
   "metadata": {},
   "outputs": [],
   "source": [
    "my_calculator.turn_on()"
   ]
  },
  {
   "cell_type": "markdown",
   "metadata": {},
   "source": [
    "Let's try again:"
   ]
  },
  {
   "cell_type": "code",
   "execution_count": 84,
   "metadata": {},
   "outputs": [
    {
     "data": {
      "text/plain": [
       "3"
      ]
     },
     "execution_count": 84,
     "metadata": {},
     "output_type": "execute_result"
    }
   ],
   "source": [
    "my_calculator.add(1, 2)"
   ]
  },
  {
   "attachments": {},
   "cell_type": "markdown",
   "metadata": {},
   "source": [
    "Podemos acceder a **atributos** en un objeto con la notación de punto. En este ejemplo, el único atributo es `on`, y se establece en el método `__init__()`."
   ]
  },
  {
   "cell_type": "code",
   "execution_count": 85,
   "metadata": {},
   "outputs": [
    {
     "data": {
      "text/plain": [
       "True"
      ]
     },
     "execution_count": 85,
     "metadata": {},
     "output_type": "execute_result"
    }
   ],
   "source": [
    "my_calculator.on"
   ]
  },
  {
   "attachments": {},
   "cell_type": "markdown",
   "metadata": {},
   "source": [
    "Nota que también podemos actualizar atributos:"
   ]
  },
  {
   "cell_type": "code",
   "execution_count": 86,
   "metadata": {},
   "outputs": [
    {
     "name": "stdout",
     "output_type": "stream",
     "text": [
      "the calculator is not on\n"
     ]
    }
   ],
   "source": [
    "my_calculator.on = False\n",
    "my_calculator.add(1, 2)"
   ]
  },
  {
   "attachments": {},
   "cell_type": "markdown",
   "metadata": {},
   "source": [
    "Finalmente, podemos usar `help()` para obtener más información sobre el objeto:"
   ]
  },
  {
   "cell_type": "code",
   "execution_count": 87,
   "metadata": {},
   "outputs": [
    {
     "name": "stdout",
     "output_type": "stream",
     "text": [
      "Help on Calculator in module __main__ object:\n",
      "\n",
      "class Calculator(builtins.object)\n",
      " |  This is the class docstring.\n",
      " |  \n",
      " |  Methods defined here:\n",
      " |  \n",
      " |  __init__(self)\n",
      " |      This is a method and it is called when we create an object of type `Calculator`.\n",
      " |  \n",
      " |  add(self, x, y)\n",
      " |      Perform addition if calculator is on\n",
      " |  \n",
      " |  turn_on(self)\n",
      " |      This method turns on the calculator.\n",
      " |  \n",
      " |  ----------------------------------------------------------------------\n",
      " |  Data descriptors defined here:\n",
      " |  \n",
      " |  __dict__\n",
      " |      dictionary for instance variables (if defined)\n",
      " |  \n",
      " |  __weakref__\n",
      " |      list of weak references to the object (if defined)\n",
      "\n"
     ]
    }
   ],
   "source": [
    "help(my_calculator)"
   ]
  },
  {
   "attachments": {},
   "cell_type": "markdown",
   "metadata": {},
   "source": [
    "... y también para un método:"
   ]
  },
  {
   "cell_type": "code",
   "execution_count": 88,
   "metadata": {},
   "outputs": [
    {
     "name": "stdout",
     "output_type": "stream",
     "text": [
      "Help on method add in module __main__:\n",
      "\n",
      "add(x, y) method of __main__.Calculator instance\n",
      "    Perform addition if calculator is on\n",
      "\n"
     ]
    }
   ],
   "source": [
    "help(my_calculator.add)"
   ]
  },
  {
   "attachments": {},
   "cell_type": "markdown",
   "metadata": {},
   "source": [
    "## Próximos Pasos\n",
    "Esto fue un curso intensivo de Python. No se espera que seas un experto en el lenguaje para comenzar a trabajar a través del texto. Tómate un tiempo para jugar con este cuaderno antes de intentar [los ejercicios de este capítulo](./exercises.ipynb).\n",
    "\n",
    "<hr>\n",
    "<div style=\"overflow: hidden; margin-bottom: 10px;\">\n",
    "    <div style=\"float: left;\">\n",
    "         <a href=\"./introduction_to_data_analysis.ipynb\">\n",
    "            <button>&#8592; Introducción al Análisis de Datos</button>\n",
    "        </a>\n",
    "    </div>\n",
    "    <div style=\"float: right;\">\n",
    "        <a href=\"./check_your_setup.ipynb\">\n",
    "            <button>Verifica tu Configuración</button>\n",
    "        </a>\n",
    "        <a href=\"./exercises.ipynb\">\n",
    "            <button>Ejercicios del Capítulo 1 &#8594;</button>\n",
    "        </a>\n",
    "    </div>\n",
    "</div>\n",
    "<hr>"
   ]
  }
 ],
 "metadata": {
  "kernelspec": {
   "display_name": "Python 3",
   "language": "python",
   "name": "python3"
  },
  "language_info": {
   "codemirror_mode": {
    "name": "ipython",
    "version": 3
   },
   "file_extension": ".py",
   "mimetype": "text/x-python",
   "name": "python",
   "nbconvert_exporter": "python",
   "pygments_lexer": "ipython3",
   "version": "3.9.12"
  }
 },
 "nbformat": 4,
 "nbformat_minor": 4
}
